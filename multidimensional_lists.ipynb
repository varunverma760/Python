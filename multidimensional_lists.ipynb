{
  "nbformat": 4,
  "nbformat_minor": 0,
  "metadata": {
    "colab": {
      "name": "multidimensional-lists.ipynb",
      "provenance": []
    },
    "kernelspec": {
      "name": "python3",
      "display_name": "Python 3"
    },
    "language_info": {
      "name": "python"
    }
  },
  "cells": [
    {
      "cell_type": "code",
      "metadata": {
        "colab": {
          "base_uri": "https://localhost:8080/"
        },
        "id": "LRGq6e15pJ-L",
        "outputId": "b11969d7-92ce-410d-d0fc-1004c058a251"
      },
      "source": [
        "sizes =input().split()\n",
        "m=int(sizes[0])\n",
        "n=int(sizes[1])\n",
        "l=[]\n",
        "for i in range(m):\n",
        "  next_row=[int(i) for i in input().split()]\n",
        "  l.append(next_row)\n",
        "l"
      ],
      "execution_count": 3,
      "outputs": [
        {
          "output_type": "stream",
          "text": [
            "2 2\n",
            "12 13\n",
            "14 15\n"
          ],
          "name": "stdout"
        },
        {
          "output_type": "execute_result",
          "data": {
            "text/plain": [
              "[[12, 13], [14, 15]]"
            ]
          },
          "metadata": {
            "tags": []
          },
          "execution_count": 3
        }
      ]
    },
    {
      "cell_type": "code",
      "metadata": {
        "colab": {
          "base_uri": "https://localhost:8080/"
        },
        "id": "nQQRdpBcDTJZ",
        "outputId": "e8da32ee-d37e-451d-87aa-d695aaa97ffc"
      },
      "source": [
        "sizes = input().split()\n",
        "m = int(sizes[0])\n",
        "n = int(sizes[1])\n",
        "for i in range(m):\n",
        "  next_row = []\n",
        "  for j in range(n):\n",
        "    element = int(input())\n",
        "    next_row.append(element)\n",
        "  l.append(next_row)\n",
        "l "
      ],
      "execution_count": 5,
      "outputs": [
        {
          "output_type": "stream",
          "text": [
            "2 2\n",
            "12\n",
            "13\n",
            "14\n",
            "15\n"
          ],
          "name": "stdout"
        },
        {
          "output_type": "execute_result",
          "data": {
            "text/plain": [
              "[[12, 13], [14, 15], [12, 13], [14, 15]]"
            ]
          },
          "metadata": {
            "tags": []
          },
          "execution_count": 5
        }
      ]
    },
    {
      "cell_type": "code",
      "metadata": {
        "colab": {
          "base_uri": "https://localhost:8080/"
        },
        "id": "i3OzaZYrD_Zu",
        "outputId": "64a05fdb-4be6-4ceb-9c06-927731f4081b"
      },
      "source": [
        "sizes = input().split()\n",
        "m = int(sizes[0])\n",
        "n = int(sizes[1])\n",
        "l_ld= [int(i) for i in input().split()]\n",
        "l = []\n",
        "for i in range(m):\n",
        "    next_row = []\n",
        "    for j in range(m):\n",
        "       start_index = n +i\n",
        "       end_index = n * (i+1)\n",
        "       next_row = l_ld[start_index:end_index]\n",
        "       l.append(next_row)\n",
        "l\n"
      ],
      "execution_count": 8,
      "outputs": [
        {
          "output_type": "stream",
          "text": [
            "2 2\n",
            "12 13 14 16\n"
          ],
          "name": "stdout"
        },
        {
          "output_type": "execute_result",
          "data": {
            "text/plain": [
              "[[], [], [16], [16]]"
            ]
          },
          "metadata": {
            "tags": []
          },
          "execution_count": 8
        }
      ]
    }
  ]
}